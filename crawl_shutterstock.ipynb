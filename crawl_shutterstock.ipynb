{
 "cells": [
  {
   "cell_type": "code",
   "execution_count": null,
   "id": "b9b99398",
   "metadata": {},
   "outputs": [],
   "source": [
    "import time\n",
    "import undetected_chromedriver as uc\n",
    "from selenium.webdriver.common.by import By\n",
    "from selenium.webdriver.support.ui import WebDriverWait\n",
    "from selenium.webdriver.support import expected_conditions as EC\n",
    "###\n",
    "# 務必先手動，開啟瀏覽器進去shutterstock，登入帳號\n",
    "# 這樣才能取得 cookies，用於自動化登入\n",
    "###\n",
    "#Step 1: 開啟 https://submit.shutterstock.com/upload\n",
    "#Step 2: 找到 CSV 上傳區塊 → 送出本機檔案路徑\n",
    "#Step 3: 等待上傳完成進度條消失\n",
    "#Step 4: 點擊「Apply metadata」\n",
    "#Step 5: 等待套用完成\n",
    "#[選配] Step 6: 勾選全部 → 點 Submit → 確認送審成功\n",
    "\n",
    "# === 設定 ===\n",
    "CSV_PATH = \"/Users/donpanic/Documents/shutterstock_meta.csv\"\n",
    "CHROME_BIN = \"/Users/donpanic/Documents/programming/chrome-mac-arm64/Google Chrome for Testing.app/Contents/MacOS/Google Chrome for Testing\"\n",
    "USER_DATA_DIR = \"/Users/donpanic/Library/Application Support/Google/Chrome for Testing\"\n",
    "PROFILE_DIR = \"/Users/donpanic/Documents/programming/chrome-mac-arm64/Google Chrome for Testing\"  # ✅ 使用你剛"
   ]
  },
  {
   "cell_type": "code",
   "execution_count": null,
   "id": "22e7a343",
   "metadata": {},
   "outputs": [],
   "source": [
    "# === 啟動瀏覽器 ===\n",
    "options = uc.ChromeOptions()\n",
    "options.binary_location = CHROME_BIN\n",
    "options.add_argument(f\"--user-data-dir={USER_DATA_DIR}\")\n",
    "options.add_argument(\"--profile-directory=Default\")\n",
    "options.add_argument(\"--disable-blink-features=AutomationControlled\")  # Stealth 強化\n",
    "\n",
    "driver = uc.Chrome(options=options, headless=False)\n",
    "wait = WebDriverWait(driver, 30)\n",
    "\n",
    "# === 1. 開啟 Shutterstock 上傳頁 ===\n",
    "driver.get(\"https://submit.shutterstock.com/upload\")\n",
    "print(\"⏳ 開啟 upload 頁面中...\")"
   ]
  },
  {
   "cell_type": "code",
   "execution_count": null,
   "id": "5cd601ec",
   "metadata": {},
   "outputs": [],
   "source": [
    "# === 2. 上傳 CSV 檔案 ===\n",
    "try:\n",
    "    csv_input = wait.until(\n",
    "        EC.presence_of_element_located((By.CSS_SELECTOR, \"input[type='file'][accept='.csv']\"))\n",
    "    )\n",
    "    csv_input.send_keys(CSV_PATH)\n",
    "    print(f\"📤 已選擇 CSV 檔：{CSV_PATH}\")\n",
    "except Exception as e:\n",
    "    print(\"❌ 找不到 CSV 上傳欄位，可能是未登入或頁面失敗。\")\n",
    "    driver.quit()\n",
    "    raise e"
   ]
  },
  {
   "cell_type": "code",
   "execution_count": null,
   "id": "ecfffa61",
   "metadata": {},
   "outputs": [],
   "source": [
    "# === 3. 等待「Apply metadata」按鈕可點擊並點擊 ===\n",
    "try:\n",
    "    apply_btn = wait.until(\n",
    "        EC.element_to_be_clickable((By.XPATH, \"//button[contains(., 'Apply metadata')]\"))\n",
    "    )\n",
    "    time.sleep(1.2)  # 模擬人類操作延遲\n",
    "    apply_btn.click()\n",
    "    print(\"✅ 點擊 Apply metadata 成功\")\n",
    "except Exception as e:\n",
    "    print(\"❌ 找不到或無法點擊 Apply metadata\")\n",
    "    driver.quit()\n",
    "    raise e\n",
    "\n",
    "# === 4. 等待套用完成（進度條消失或成功 toast）===\n",
    "try:\n",
    "    wait.until(EC.invisibility_of_element_located((By.CSS_SELECTOR, \".metadata-upload-progress\")))\n",
    "    print(\"🎉 Metadata 套用完成！\")\n",
    "except:\n",
    "    print(\"⚠️ 未偵測到進度條消失，請手動確認結果\")\n",
    "\n",
    "# === 結束 ===\n",
    "input(\"✅ 流程完成，你可以按 Enter 關閉瀏覽器\")\n",
    "driver.quit()"
   ]
  }
 ],
 "metadata": {
  "kernelspec": {
   "display_name": "Python 3",
   "language": "python",
   "name": "python3"
  },
  "language_info": {
   "codemirror_mode": {
    "name": "ipython",
    "version": 3
   },
   "file_extension": ".py",
   "mimetype": "text/x-python",
   "name": "python",
   "nbconvert_exporter": "python",
   "pygments_lexer": "ipython3",
   "version": "3.11.0"
  }
 },
 "nbformat": 4,
 "nbformat_minor": 5
}
