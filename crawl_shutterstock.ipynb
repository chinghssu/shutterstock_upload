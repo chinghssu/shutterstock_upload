{
 "cells": [
  {
   "cell_type": "code",
   "execution_count": null,
   "id": "b9b99398",
   "metadata": {},
   "outputs": [],
   "source": [
    "import time\n",
    "import os\n",
    "import undetected_chromedriver as uc\n",
    "from selenium.webdriver.common.by import By\n",
    "from selenium.webdriver.support.ui import WebDriverWait\n",
    "from selenium.webdriver.support import expected_conditions as EC\n",
    "from dotenv import load_dotenv\n",
    "import pyautogui\n",
    "\n",
    "###\n",
    "# 務必先手動，開啟瀏覽器進去shutterstock，登入帳號\n",
    "# 這樣才能取得 cookies，用於自動化登入\n",
    "###\n",
    "#Step 1: 開啟 https://submit.shutterstock.com/upload\n",
    "#Step 2: 找到 CSV 上傳區塊 → 送出本機檔案路徑\n",
    "#Step 3: 等待上傳完成進度條消失\n",
    "#Step 4: 點擊「Apply metadata」\n",
    "#Step 5: 等待套用完成\n",
    "#[選配] Step 6: 勾選全部 → 點 Submit → 確認送審成功\n",
    "load_dotenv() # 自動載入 .env 檔\n",
    "csv_path = os.getenv(\"CSV_PATH\")\n",
    "chrome_bin = os.getenv(\"CHROME_BIN\")\n",
    "user_data_dir = os.getenv(\"USER_DATA_DIR\")\n"
   ]
  },
  {
   "cell_type": "code",
   "execution_count": 23,
   "id": "254dd49d",
   "metadata": {},
   "outputs": [
    {
     "name": "stdout",
     "output_type": "stream",
     "text": [
      "⏳ 開啟 upload 頁面中...\n"
     ]
    }
   ],
   "source": [
    "# === 啟動瀏覽器 ===\n",
    "options = uc.ChromeOptions()\n",
    "options.binary_location = chrome_bin\n",
    "options.add_argument(f\"--user-data-dir={user_data_dir}\")\n",
    "options.add_argument(\"--profile-directory=Default\")\n",
    "options.add_argument(\"--disable-blink-features=AutomationControlled\")  # Stealth 強化\n",
    "\n",
    "driver = uc.Chrome(options=options, headless=False)\n",
    "wait = WebDriverWait(driver, 30)\n",
    "\n",
    "# === 1. 開啟 Shutterstock 上傳頁 ===\n",
    "driver.get(\"https://submit.shutterstock.com/upload\")\n",
    "print(\"⏳ 開啟 upload 頁面中...\")"
   ]
  },
  {
   "cell_type": "code",
   "execution_count": 24,
   "id": "f3b75f78",
   "metadata": {},
   "outputs": [],
   "source": [
    "# === 1. 點擊頁面左方的 \"Portfolio\" ===\n",
    "wait.until(EC.element_to_be_clickable((By.XPATH, \"//p[contains(.,'Portfolio')]\"))).click()\n",
    "time.sleep(1) \n",
    "# === 2. 點擊 \"Submit content\" ===\n",
    "wait.until(EC.element_to_be_clickable((By.XPATH, \"//span[contains(.,'Submit content')]\"))).click()\n",
    "time.sleep(1) \n",
    "# === 3. 點擊 Videos 頁籤 ===\n",
    "wait.until(EC.element_to_be_clickable((By.XPATH, \"//a[2]/button/h6\"))).click()\n",
    "time.sleep(1.5) \n",
    "# === 4. 點擊第一層\"Upload CSV\"===\n",
    "wait.until(EC.element_to_be_clickable((By.XPATH, \"(//button[@type='button'])[16]\"))).click()\n",
    "time.sleep(1.3)\n",
    "# === 5. 點擊第二層的 \"Upload CSV\"===\n",
    "wait.until(EC.element_to_be_clickable((By.XPATH, \"//span[contains(.,'Upload CSV')]\"))).click()\n",
    "time.sleep(1.4)\n"
   ]
  },
  {
   "cell_type": "code",
   "execution_count": 25,
   "id": "92d870de",
   "metadata": {},
   "outputs": [],
   "source": [
    "# === 6. 上傳 CSV ===\n",
    "# 等待 Finder 開啟\n",
    "time.sleep(1)\n",
    "# 呼叫 \"前往資料夾\"\n",
    "pyautogui.hotkey('command', 'shift', 'g') # macOS Finder 的「前往資料夾」功能\n",
    "time.sleep(0.5)\n",
    "\n",
    "# 輸入檔案路徑\n",
    "# 加一個空白或句點當作緩衝，再按 backspace 刪除\n",
    "pyautogui.write(\" \")\n",
    "pyautogui.press('backspace')  # 刪掉開頭多的空格\n",
    "pyautogui.write(\"/Users/donpanic/Downloads/shutterstock_re.csv\")  # 輸入CSV檔案路徑\n",
    "pyautogui.press('return')     # 前往\n",
    "time.sleep(0.5)\n",
    "pyautogui.press('return')     # 選取檔案\n",
    "time.sleep(2)  # 等待上傳\n",
    "wait.until(EC.element_to_be_clickable((By.XPATH, \"//p[contains(.,'Close')]\"))).click()#click \"close\" button\n"
   ]
  }
 ],
 "metadata": {
  "kernelspec": {
   "display_name": "Python 3",
   "language": "python",
   "name": "python3"
  },
  "language_info": {
   "codemirror_mode": {
    "name": "ipython",
    "version": 3
   },
   "file_extension": ".py",
   "mimetype": "text/x-python",
   "name": "python",
   "nbconvert_exporter": "python",
   "pygments_lexer": "ipython3",
   "version": "3.11.0"
  }
 },
 "nbformat": 4,
 "nbformat_minor": 5
}
