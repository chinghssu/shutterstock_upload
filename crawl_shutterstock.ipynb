{
 "cells": [
  {
   "cell_type": "code",
   "execution_count": 8,
   "id": "b9b99398",
   "metadata": {},
   "outputs": [],
   "source": [
    "import time\n",
    "import undetected_chromedriver as uc\n",
    "from selenium.webdriver.common.by import By\n",
    "from selenium.webdriver.support.ui import WebDriverWait\n",
    "from selenium.webdriver.support import expected_conditions as EC\n",
    "###\n",
    "# 務必先手動，開啟瀏覽器進去shutterstock，登入帳號\n",
    "# 這樣才能取得 cookies，用於自動化登入\n",
    "###\n",
    "#Step 1: 開啟 https://submit.shutterstock.com/upload\n",
    "#Step 2: 找到 CSV 上傳區塊 → 送出本機檔案路徑\n",
    "#Step 3: 等待上傳完成進度條消失\n",
    "#Step 4: 點擊「Apply metadata」\n",
    "#Step 5: 等待套用完成\n",
    "#[選配] Step 6: 勾選全部 → 點 Submit → 確認送審成功\n",
    "\n",
    "# === 設定 ===\n",
    "CSV_PATH = \"YOUR_PATH/YOUR_CSV.csv"\n",
    "CHROME_BIN = \"YOUR_PATH/Google Chrome for Testing\"\n",
    "USER_DATA_DIR = \"YOUR_PATH/Chrome for Testing\"\n",
    "PROFILE_DIR = \"YOUR_PATH/Google Chrome for Testing\" "
   ]
  },
  {
   "cell_type": "code",
   "execution_count": 9,
   "id": "22e7a343",
   "metadata": {},
   "outputs": [
    {
     "name": "stdout",
     "output_type": "stream",
     "text": [
      "⏳ 開啟 upload 頁面中...\n"
     ]
    }
   ],
   "source": [
    "# === 啟動瀏覽器 ===\n",
    "options = uc.ChromeOptions()\n",
    "options.binary_location = CHROME_BIN\n",
    "options.add_argument(f\"--user-data-dir={USER_DATA_DIR}\")\n",
    "options.add_argument(\"--profile-directory=Default\")\n",
    "options.add_argument(\"--disable-blink-features=AutomationControlled\")  # Stealth 強化\n",
    "\n",
    "driver = uc.Chrome(options=options, headless=False)\n",
    "wait = WebDriverWait(driver, 30)\n",
    "\n",
    "# === 1. 開啟 Shutterstock 上傳頁 ===\n",
    "driver.get(\"https://submit.shutterstock.com/dashboard\")\n",
    "print(\"⏳ 開啟 upload 頁面中...\")"
   ]
  },
  {
   "cell_type": "code",
   "execution_count": 11,
   "id": "5cd601ec",
   "metadata": {},
   "outputs": [],
   "source": [
    "# === 1. 點擊 Portfolio ===\n",
    "wait.until(EC.element_to_be_clickable((By.XPATH, \"//p[contains(.,'Portfolio')]\"))).click()\n",
    "time.sleep(1)  # 等待頁面載入\n",
    "# === 2. 點擊 Submit content ===\n",
    "wait.until(EC.element_to_be_clickable((By.XPATH, \"//span[contains(.,'Submit content')]\"))).click()\n",
    "time.sleep(1)  # 等待頁面載入\n",
    "# === 3. 點擊 Videos 頁籤（可能是 video type 的切換）===\n",
    "wait.until(EC.element_to_be_clickable((By.XPATH, \"//a[2]/button/h6\"))).click()\n",
    "time.sleep(1.5)  # 等待頁面載入\n",
    "# === 4. 點擊第一層 Upload CSV（開啟 modal）===\n",
    "wait.until(EC.element_to_be_clickable((By.XPATH, \"(//button[@type='button'])[16]\"))).click()\n",
    "time.sleep(1.3)\n",
    "# === 5. 點擊 modal 裡的 Upload CSV（打開 input file）===\n",
    "wait.until(EC.element_to_be_clickable((By.XPATH, \"//span[contains(.,'Upload CSV')]\"))).click()\n",
    "time.sleep(1.4)\n"
   ]
  },
  {
   "cell_type": "code",
   "execution_count": null,
   "id": "92d870de",
   "metadata": {},
   "outputs": [],
   "source": [
    "# === 6. 找到隱藏的 input[type=file] 元素並上傳 CSV ===\n"
   ]
  },
  {
   "cell_type": "code",
   "execution_count": null,
   "id": "ecfffa61",
   "metadata": {},
   "outputs": [],
   "source": [
    "# === 3. 等待「Apply metadata」按鈕可點擊並點擊 ===\n",
    "try:\n",
    "    apply_btn = wait.until(\n",
    "        EC.element_to_be_clickable((By.XPATH, \"//button[contains(., 'Apply metadata')]\"))\n",
    "    )\n",
    "    time.sleep(1.2)  # 模擬人類操作延遲\n",
    "    apply_btn.click()\n",
    "    print(\"✅ 點擊 Apply metadata 成功\")\n",
    "except Exception as e:\n",
    "    print(\"❌ 找不到或無法點擊 Apply metadata\")\n",
    "    driver.quit()\n",
    "    raise e\n",
    "\n",
    "# === 4. 等待套用完成（進度條消失或成功 toast）===\n",
    "try:\n",
    "    wait.until(EC.invisibility_of_element_located((By.CSS_SELECTOR, \".metadata-upload-progress\")))\n",
    "    print(\"🎉 Metadata 套用完成！\")\n",
    "except:\n",
    "    print(\"⚠️ 未偵測到進度條消失，請手動確認結果\")\n",
    "\n",
    "# === 結束 ===\n",
    "input(\"✅ 流程完成，你可以按 Enter 關閉瀏覽器\")\n",
    "driver.quit()"
   ]
  }
 ],
 "metadata": {
  "kernelspec": {
   "display_name": "Python 3",
   "language": "python",
   "name": "python3"
  },
  "language_info": {
   "codemirror_mode": {
    "name": "ipython",
    "version": 3
   },
   "file_extension": ".py",
   "mimetype": "text/x-python",
   "name": "python",
   "nbconvert_exporter": "python",
   "pygments_lexer": "ipython3",
   "version": "3.11.0"
  }
 },
 "nbformat": 4,
 "nbformat_minor": 5
}
